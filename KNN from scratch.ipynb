{
 "cells": [
  {
   "cell_type": "code",
   "execution_count": null,
   "metadata": {},
   "outputs": [],
   "source": [
    "import  numpy as np\n",
    "import pandas as pd\n",
    "import math"
   ]
  },
  {
   "cell_type": "code",
   "execution_count": null,
   "metadata": {},
   "outputs": [],
   "source": [
    "a1=class1=[[20,10],[10,15]]\n",
    "a2=class2=[[5,2],[8,30]]\n",
    "#to calculate euclidian distance\n",
    "def euclid(a1,a2,length):\n",
    "    dist=0\n",
    "    for a in range(length):\n",
    "        dist+=np.sqrt(pow(a1[a]-a2[a]),2)\n",
    "    return(dist)\n",
    "\n",
    "#\n",
    "def KNN(train,test, k):\n",
    "    distance={}\n",
    "    sort={}\n",
    "    length=test.shape[1]\n",
    "    \n",
    "for a in range(len(train)):\n",
    "    d=euclid(test,train.iloc[a],length )\n",
    "    distance[a]=dist[0]\n",
    "    sort_dist=sorted(distance.items(),\n",
    "key=operator.itemgetter(1))\n",
    "    neighbours=[]\n",
    "for a in range[k]:\n",
    "    neighbours.append(sortdist[a][0])\n",
    "#to get most frequent rows    \n",
    "freq={}\n",
    "for a in range(len(neighbours)):\n",
    "    response = train.iloc[neighbours[a][-1]]\n",
    "    if response in freq:\n",
    "        freq[response]+= 1\n",
    "    else:\n",
    "        freq[responses]=1\n",
    "        sortfreq=sorted(freq.items(),\n",
    "key=operator.itemgetter(1),rev=True)\n",
    "return(sortfreq[0][0], neighbours)\n",
    "test_set=[[10,15,2,8]]\n",
    "test= pd.DataFrame(test_set)\n",
    "\n",
    "print (input('enter the value for k: '))\n",
    "\n",
    "result=KNN(a,test,k)\n",
    "\n",
    "neighbour=KNN(a,test,k)\n",
    "\n",
    "print (result)\n",
    "print (neighbour)"
   ]
  },
  {
   "cell_type": "code",
   "execution_count": null,
   "metadata": {},
   "outputs": [],
   "source": []
  }
 ],
 "metadata": {
  "kernelspec": {
   "display_name": "Python 3",
   "language": "python",
   "name": "python3"
  },
  "language_info": {
   "codemirror_mode": {
    "name": "ipython",
    "version": 3
   },
   "file_extension": ".py",
   "mimetype": "text/x-python",
   "name": "python",
   "nbconvert_exporter": "python",
   "pygments_lexer": "ipython3",
   "version": "3.7.4"
  }
 },
 "nbformat": 4,
 "nbformat_minor": 2
}
